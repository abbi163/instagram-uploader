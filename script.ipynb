{
 "cells": [
  {
   "cell_type": "code",
   "execution_count": null,
   "id": "5d1d1139-132c-4a8e-b54a-14561b89e836",
   "metadata": {},
   "outputs": [],
   "source": []
  },
  {
   "cell_type": "code",
   "execution_count": null,
   "id": "7e87e4d3-e3fe-452d-81ef-55842b36f4c7",
   "metadata": {},
   "outputs": [],
   "source": []
  },
  {
   "cell_type": "code",
   "execution_count": null,
   "id": "03567d8b-7aba-4947-8b6b-c541ca1bb6b1",
   "metadata": {},
   "outputs": [],
   "source": []
  },
  {
   "cell_type": "code",
   "execution_count": 8,
   "id": "72acb8bc-43ee-4cd4-afa9-0241b1ae1efc",
   "metadata": {},
   "outputs": [],
   "source": [
    "# import os\n",
    "# import shutil\n",
    "\n",
    "# def create_directory_if_not_exists(path):\n",
    "#     \"\"\"Create a directory if it doesn't exist.\"\"\"\n",
    "#     if not os.path.exists(path):\n",
    "#         os.makedirs(path)\n",
    "\n",
    "# def save_files_to_folder(media_group, folder_path, extensions):\n",
    "#     \"\"\"Save specific files with given extensions to the folder.\"\"\"\n",
    "#     create_directory_if_not_exists(folder_path)\n",
    "#     for file_path in media_group:\n",
    "#         if any(file_path.endswith(ext) for ext in extensions):\n",
    "#             shutil.copy(file_path, folder_path)\n",
    "\n",
    "# def process_media_groups(media_groups):\n",
    "#     for i, group in enumerate(media_groups):\n",
    "#         if len(group) == 4:  # Select media groups with only 4 items\n",
    "#             # Save video and text file in data/posts/[i]\n",
    "#             posts_path = f'data/posts/{i}'\n",
    "#             save_files_to_folder(group, posts_path, ['.mp4', '.txt'])\n",
    "\n",
    "#             # Save only video in data/stories/[i]\n",
    "#             stories_path = f'data/stories/{i}'\n",
    "#             save_files_to_folder(group, stories_path, ['.mp4'])\n",
    "\n",
    "# # Example usage\n",
    "# path_to_folder = 'data/all/'\n",
    "# media_groups = group_media_files_by_upload(path_to_folder)\n",
    "# print(f'Total media groups: {len(media_groups)}')\n",
    "# process_media_groups(media_groups)\n",
    "\n",
    "\n",
    "# # Specify the path to the folder containing media files\n",
    "# path_to_folder = 'data/all/'  # Replace with your actual folder path\n",
    "# media_groups = group_media_files_by_upload(path_to_folder)\n",
    "# print(len(media_groups))"
   ]
  },
  {
   "cell_type": "code",
   "execution_count": null,
   "id": "4d52f390-c747-4db0-b261-4897b6fc20fe",
   "metadata": {},
   "outputs": [],
   "source": []
  },
  {
   "cell_type": "code",
   "execution_count": null,
   "id": "a4961559-5de7-42ea-9c8a-5d5ded858dc2",
   "metadata": {},
   "outputs": [],
   "source": []
  },
  {
   "cell_type": "code",
   "execution_count": null,
   "id": "5ab3403a-460c-4b20-a5aa-f86c61b3989c",
   "metadata": {},
   "outputs": [],
   "source": []
  }
 ],
 "metadata": {
  "kernelspec": {
   "display_name": "Python 3 (ipykernel)",
   "language": "python",
   "name": "python3"
  },
  "language_info": {
   "codemirror_mode": {
    "name": "ipython",
    "version": 3
   },
   "file_extension": ".py",
   "mimetype": "text/x-python",
   "name": "python",
   "nbconvert_exporter": "python",
   "pygments_lexer": "ipython3",
   "version": "3.9.19"
  }
 },
 "nbformat": 4,
 "nbformat_minor": 5
}
