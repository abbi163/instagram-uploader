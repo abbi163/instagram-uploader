{
 "cells": [
  {
   "cell_type": "code",
   "execution_count": null,
   "id": "5d1d1139-132c-4a8e-b54a-14561b89e836",
   "metadata": {},
   "outputs": [],
   "source": []
  },
  {
   "cell_type": "code",
   "execution_count": null,
   "id": "7e87e4d3-e3fe-452d-81ef-55842b36f4c7",
   "metadata": {},
   "outputs": [],
   "source": []
  },
  {
   "cell_type": "code",
   "execution_count": null,
   "id": "03567d8b-7aba-4947-8b6b-c541ca1bb6b1",
   "metadata": {},
   "outputs": [],
   "source": []
  },
  {
   "cell_type": "code",
   "execution_count": null,
   "id": "72acb8bc-43ee-4cd4-afa9-0241b1ae1efc",
   "metadata": {},
   "outputs": [],
   "source": []
  },
  {
   "cell_type": "code",
   "execution_count": null,
   "id": "4d52f390-c747-4db0-b261-4897b6fc20fe",
   "metadata": {},
   "outputs": [],
   "source": []
  },
  {
   "cell_type": "code",
   "execution_count": null,
   "id": "a4961559-5de7-42ea-9c8a-5d5ded858dc2",
   "metadata": {},
   "outputs": [],
   "source": []
  },
  {
   "cell_type": "code",
   "execution_count": 8,
   "id": "5ab3403a-460c-4b20-a5aa-f86c61b3989c",
   "metadata": {},
   "outputs": [
    {
     "name": "stdout",
     "output_type": "stream",
     "text": [
      "Schedule created and saved to media_schedule.csv\n"
     ]
    }
   ],
   "source": [
    "import os\n",
    "import pandas as pd\n",
    "from datetime import datetime, timedelta\n",
    "\n",
    "# Path to your main media folder\n",
    "media_folder = 'data/stories'\n",
    "\n",
    "# Recursively get list of all media files in subfolders\n",
    "media_files = []\n",
    "for root, dirs, files in os.walk(media_folder):\n",
    "    for file in files:\n",
    "        if os.path.isfile(os.path.join(root, file)):\n",
    "            media_files.append(os.path.join(root, file))\n",
    "\n",
    "# Sort files to maintain a consistent order\n",
    "media_files.sort()\n",
    "\n",
    "# Start date for the schedule\n",
    "start_date = datetime(2024, 11, 4)\n",
    "\n",
    "# Create a schedule by mapping each date to a media file\n",
    "schedule = []\n",
    "num_files = len(media_files)\n",
    "\n",
    "for i in range(num_files):\n",
    "    date = start_date + timedelta(days=i)\n",
    "    media_path = media_files[i]\n",
    "    schedule.append({'Date': date.strftime('%Y-%m-%d'), 'File Path': media_path})\n",
    "\n",
    "# Convert schedule to a DataFrame and save as CSV\n",
    "schedule_df = pd.DataFrame(schedule)\n",
    "schedule_csv_path = 'media_schedule.csv'\n",
    "schedule_df.to_csv(schedule_csv_path, index=False)\n",
    "\n",
    "print(f\"Schedule created and saved to {schedule_csv_path}\")\n"
   ]
  },
  {
   "cell_type": "code",
   "execution_count": null,
   "id": "46a5bcc3-b925-4555-b54e-f45801b30ac1",
   "metadata": {},
   "outputs": [],
   "source": []
  },
  {
   "cell_type": "code",
   "execution_count": null,
   "id": "dceaf8be-5227-4b1f-af22-be82ef17052f",
   "metadata": {},
   "outputs": [],
   "source": []
  }
 ],
 "metadata": {
  "kernelspec": {
   "display_name": "Python 3 (ipykernel)",
   "language": "python",
   "name": "python3"
  },
  "language_info": {
   "codemirror_mode": {
    "name": "ipython",
    "version": 3
   },
   "file_extension": ".py",
   "mimetype": "text/x-python",
   "name": "python",
   "nbconvert_exporter": "python",
   "pygments_lexer": "ipython3",
   "version": "3.9.19"
  }
 },
 "nbformat": 4,
 "nbformat_minor": 5
}
